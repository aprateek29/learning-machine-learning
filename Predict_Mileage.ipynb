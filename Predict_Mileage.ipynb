{
  "nbformat": 4,
  "nbformat_minor": 0,
  "metadata": {
    "colab": {
      "name": "Predict Mileage.ipynb",
      "provenance": []
    },
    "kernelspec": {
      "name": "python3",
      "display_name": "Python 3"
    }
  },
  "cells": [
    {
      "cell_type": "markdown",
      "metadata": {
        "id": "TeoShsxOVNH5"
      },
      "source": [
        "### **Description**: Learn how to download, analyze, and preprocess data with pandas. We then build a simple Linear Model using the keras.Dense layer and predict new values. Then extend this model to a deep neural network and learn about the importance of activation functions.\n"
      ]
    },
    {
      "cell_type": "code",
      "metadata": {
        "id": "1OAVKv7hoip5"
      },
      "source": [
        "import os\n",
        "os.environ['TF_CPP_MIN_LOG_LEVEL'] = '2'\n",
        "\n",
        "import matplotlib.pyplot as plt\n",
        "import numpy as np\n",
        "import pandas as pd \n",
        "\n",
        "np.set_printoptions(precision=3, suppress=True)"
      ],
      "execution_count": 35,
      "outputs": []
    },
    {
      "cell_type": "code",
      "metadata": {
        "id": "13WBzmFQpZ1J"
      },
      "source": [
        "import tensorflow as tf\n",
        "from tensorflow import keras\n",
        "from tensorflow.keras import layers\n",
        "from tensorflow.keras.layers.experimental import preprocessing"
      ],
      "execution_count": 36,
      "outputs": []
    },
    {
      "cell_type": "code",
      "metadata": {
        "id": "2rt8oDdIpkRY"
      },
      "source": [
        "url = 'http://archive.ics.uci.edu/ml/machine-learning-databases/auto-mpg/auto-mpg.data'\n",
        "column_names = ['MPG', 'Cylinders', 'Displacement', 'Horsepower', 'Weight', 'Acceleration', 'Model Year', 'Origin']\n",
        "dataset = pd.read_csv(url, names=column_names, na_values='?', comment='\\t', sep=' ', skipinitialspace=True)"
      ],
      "execution_count": 37,
      "outputs": []
    },
    {
      "cell_type": "code",
      "metadata": {
        "colab": {
          "base_uri": "https://localhost:8080/",
          "height": 195
        },
        "id": "i39KLgV4qT1b",
        "outputId": "d7e0779f-5f6f-44d6-fa64-183057866794"
      },
      "source": [
        "dataset.tail()"
      ],
      "execution_count": 39,
      "outputs": [
        {
          "output_type": "execute_result",
          "data": {
            "text/html": [
              "<div>\n",
              "<style scoped>\n",
              "    .dataframe tbody tr th:only-of-type {\n",
              "        vertical-align: middle;\n",
              "    }\n",
              "\n",
              "    .dataframe tbody tr th {\n",
              "        vertical-align: top;\n",
              "    }\n",
              "\n",
              "    .dataframe thead th {\n",
              "        text-align: right;\n",
              "    }\n",
              "</style>\n",
              "<table border=\"1\" class=\"dataframe\">\n",
              "  <thead>\n",
              "    <tr style=\"text-align: right;\">\n",
              "      <th></th>\n",
              "      <th>MPG</th>\n",
              "      <th>Cylinders</th>\n",
              "      <th>Displacement</th>\n",
              "      <th>Horsepower</th>\n",
              "      <th>Weight</th>\n",
              "      <th>Acceleration</th>\n",
              "      <th>Model Year</th>\n",
              "      <th>Origin</th>\n",
              "    </tr>\n",
              "  </thead>\n",
              "  <tbody>\n",
              "    <tr>\n",
              "      <th>393</th>\n",
              "      <td>27.0</td>\n",
              "      <td>4</td>\n",
              "      <td>140.0</td>\n",
              "      <td>86.0</td>\n",
              "      <td>2790.0</td>\n",
              "      <td>15.6</td>\n",
              "      <td>82</td>\n",
              "      <td>1</td>\n",
              "    </tr>\n",
              "    <tr>\n",
              "      <th>394</th>\n",
              "      <td>44.0</td>\n",
              "      <td>4</td>\n",
              "      <td>97.0</td>\n",
              "      <td>52.0</td>\n",
              "      <td>2130.0</td>\n",
              "      <td>24.6</td>\n",
              "      <td>82</td>\n",
              "      <td>2</td>\n",
              "    </tr>\n",
              "    <tr>\n",
              "      <th>395</th>\n",
              "      <td>32.0</td>\n",
              "      <td>4</td>\n",
              "      <td>135.0</td>\n",
              "      <td>84.0</td>\n",
              "      <td>2295.0</td>\n",
              "      <td>11.6</td>\n",
              "      <td>82</td>\n",
              "      <td>1</td>\n",
              "    </tr>\n",
              "    <tr>\n",
              "      <th>396</th>\n",
              "      <td>28.0</td>\n",
              "      <td>4</td>\n",
              "      <td>120.0</td>\n",
              "      <td>79.0</td>\n",
              "      <td>2625.0</td>\n",
              "      <td>18.6</td>\n",
              "      <td>82</td>\n",
              "      <td>1</td>\n",
              "    </tr>\n",
              "    <tr>\n",
              "      <th>397</th>\n",
              "      <td>31.0</td>\n",
              "      <td>4</td>\n",
              "      <td>119.0</td>\n",
              "      <td>82.0</td>\n",
              "      <td>2720.0</td>\n",
              "      <td>19.4</td>\n",
              "      <td>82</td>\n",
              "      <td>1</td>\n",
              "    </tr>\n",
              "  </tbody>\n",
              "</table>\n",
              "</div>"
            ],
            "text/plain": [
              "      MPG  Cylinders  Displacement  ...  Acceleration  Model Year  Origin\n",
              "393  27.0          4         140.0  ...          15.6          82       1\n",
              "394  44.0          4          97.0  ...          24.6          82       2\n",
              "395  32.0          4         135.0  ...          11.6          82       1\n",
              "396  28.0          4         120.0  ...          18.6          82       1\n",
              "397  31.0          4         119.0  ...          19.4          82       1\n",
              "\n",
              "[5 rows x 8 columns]"
            ]
          },
          "metadata": {
            "tags": []
          },
          "execution_count": 39
        }
      ]
    },
    {
      "cell_type": "code",
      "metadata": {
        "id": "NQKzwsyWqYMx"
      },
      "source": [
        "# clean data\n",
        "dataset = dataset.dropna()\n",
        "\n",
        "# convert categorical 'Origin' data into one-hot data\n",
        "origin = dataset.pop('Origin')\n",
        "dataset['USA'] = (origin == 1) * 1\n",
        "dataset['Europe'] = (origin == 2) * 1\n",
        "dataset['Japan'] = (origin == 3) * 1"
      ],
      "execution_count": 40,
      "outputs": []
    },
    {
      "cell_type": "code",
      "metadata": {
        "colab": {
          "base_uri": "https://localhost:8080/",
          "height": 232
        },
        "id": "_OMIAf7otwLT",
        "outputId": "f326dd0c-1fcd-474d-d8c0-0fc4b3b17d9c"
      },
      "source": [
        "dataset.tail()"
      ],
      "execution_count": 41,
      "outputs": [
        {
          "output_type": "execute_result",
          "data": {
            "text/html": [
              "<div>\n",
              "<style scoped>\n",
              "    .dataframe tbody tr th:only-of-type {\n",
              "        vertical-align: middle;\n",
              "    }\n",
              "\n",
              "    .dataframe tbody tr th {\n",
              "        vertical-align: top;\n",
              "    }\n",
              "\n",
              "    .dataframe thead th {\n",
              "        text-align: right;\n",
              "    }\n",
              "</style>\n",
              "<table border=\"1\" class=\"dataframe\">\n",
              "  <thead>\n",
              "    <tr style=\"text-align: right;\">\n",
              "      <th></th>\n",
              "      <th>MPG</th>\n",
              "      <th>Cylinders</th>\n",
              "      <th>Displacement</th>\n",
              "      <th>Horsepower</th>\n",
              "      <th>Weight</th>\n",
              "      <th>Acceleration</th>\n",
              "      <th>Model Year</th>\n",
              "      <th>USA</th>\n",
              "      <th>Europe</th>\n",
              "      <th>Japan</th>\n",
              "    </tr>\n",
              "  </thead>\n",
              "  <tbody>\n",
              "    <tr>\n",
              "      <th>393</th>\n",
              "      <td>27.0</td>\n",
              "      <td>4</td>\n",
              "      <td>140.0</td>\n",
              "      <td>86.0</td>\n",
              "      <td>2790.0</td>\n",
              "      <td>15.6</td>\n",
              "      <td>82</td>\n",
              "      <td>1</td>\n",
              "      <td>0</td>\n",
              "      <td>0</td>\n",
              "    </tr>\n",
              "    <tr>\n",
              "      <th>394</th>\n",
              "      <td>44.0</td>\n",
              "      <td>4</td>\n",
              "      <td>97.0</td>\n",
              "      <td>52.0</td>\n",
              "      <td>2130.0</td>\n",
              "      <td>24.6</td>\n",
              "      <td>82</td>\n",
              "      <td>0</td>\n",
              "      <td>1</td>\n",
              "      <td>0</td>\n",
              "    </tr>\n",
              "    <tr>\n",
              "      <th>395</th>\n",
              "      <td>32.0</td>\n",
              "      <td>4</td>\n",
              "      <td>135.0</td>\n",
              "      <td>84.0</td>\n",
              "      <td>2295.0</td>\n",
              "      <td>11.6</td>\n",
              "      <td>82</td>\n",
              "      <td>1</td>\n",
              "      <td>0</td>\n",
              "      <td>0</td>\n",
              "    </tr>\n",
              "    <tr>\n",
              "      <th>396</th>\n",
              "      <td>28.0</td>\n",
              "      <td>4</td>\n",
              "      <td>120.0</td>\n",
              "      <td>79.0</td>\n",
              "      <td>2625.0</td>\n",
              "      <td>18.6</td>\n",
              "      <td>82</td>\n",
              "      <td>1</td>\n",
              "      <td>0</td>\n",
              "      <td>0</td>\n",
              "    </tr>\n",
              "    <tr>\n",
              "      <th>397</th>\n",
              "      <td>31.0</td>\n",
              "      <td>4</td>\n",
              "      <td>119.0</td>\n",
              "      <td>82.0</td>\n",
              "      <td>2720.0</td>\n",
              "      <td>19.4</td>\n",
              "      <td>82</td>\n",
              "      <td>1</td>\n",
              "      <td>0</td>\n",
              "      <td>0</td>\n",
              "    </tr>\n",
              "  </tbody>\n",
              "</table>\n",
              "</div>"
            ],
            "text/plain": [
              "      MPG  Cylinders  Displacement  Horsepower  ...  Model Year  USA  Europe  Japan\n",
              "393  27.0          4         140.0        86.0  ...          82    1       0      0\n",
              "394  44.0          4          97.0        52.0  ...          82    0       1      0\n",
              "395  32.0          4         135.0        84.0  ...          82    1       0      0\n",
              "396  28.0          4         120.0        79.0  ...          82    1       0      0\n",
              "397  31.0          4         119.0        82.0  ...          82    1       0      0\n",
              "\n",
              "[5 rows x 10 columns]"
            ]
          },
          "metadata": {
            "tags": []
          },
          "execution_count": 41
        }
      ]
    },
    {
      "cell_type": "code",
      "metadata": {
        "colab": {
          "base_uri": "https://localhost:8080/",
          "height": 360
        },
        "id": "1ML02HkMtxgU",
        "outputId": "4ac0c9c9-1948-4fa8-d585-8ec5fcd941a0"
      },
      "source": [
        "# Split the data into train and test\n",
        "train_dataset = dataset.sample(frac=.8, random_state=0)\n",
        "test_dataset = dataset.drop(train_dataset.index)\n",
        "\n",
        "print(dataset.shape, train_dataset.shape, test_dataset.shape)\n",
        "train_dataset.describe().transpose()"
      ],
      "execution_count": 44,
      "outputs": [
        {
          "output_type": "stream",
          "text": [
            "(392, 10) (314, 10) (78, 10)\n"
          ],
          "name": "stdout"
        },
        {
          "output_type": "execute_result",
          "data": {
            "text/html": [
              "<div>\n",
              "<style scoped>\n",
              "    .dataframe tbody tr th:only-of-type {\n",
              "        vertical-align: middle;\n",
              "    }\n",
              "\n",
              "    .dataframe tbody tr th {\n",
              "        vertical-align: top;\n",
              "    }\n",
              "\n",
              "    .dataframe thead th {\n",
              "        text-align: right;\n",
              "    }\n",
              "</style>\n",
              "<table border=\"1\" class=\"dataframe\">\n",
              "  <thead>\n",
              "    <tr style=\"text-align: right;\">\n",
              "      <th></th>\n",
              "      <th>count</th>\n",
              "      <th>mean</th>\n",
              "      <th>std</th>\n",
              "      <th>min</th>\n",
              "      <th>25%</th>\n",
              "      <th>50%</th>\n",
              "      <th>75%</th>\n",
              "      <th>max</th>\n",
              "    </tr>\n",
              "  </thead>\n",
              "  <tbody>\n",
              "    <tr>\n",
              "      <th>MPG</th>\n",
              "      <td>314.0</td>\n",
              "      <td>23.310510</td>\n",
              "      <td>7.728652</td>\n",
              "      <td>10.0</td>\n",
              "      <td>17.00</td>\n",
              "      <td>22.0</td>\n",
              "      <td>28.95</td>\n",
              "      <td>46.6</td>\n",
              "    </tr>\n",
              "    <tr>\n",
              "      <th>Cylinders</th>\n",
              "      <td>314.0</td>\n",
              "      <td>5.477707</td>\n",
              "      <td>1.699788</td>\n",
              "      <td>3.0</td>\n",
              "      <td>4.00</td>\n",
              "      <td>4.0</td>\n",
              "      <td>8.00</td>\n",
              "      <td>8.0</td>\n",
              "    </tr>\n",
              "    <tr>\n",
              "      <th>Displacement</th>\n",
              "      <td>314.0</td>\n",
              "      <td>195.318471</td>\n",
              "      <td>104.331589</td>\n",
              "      <td>68.0</td>\n",
              "      <td>105.50</td>\n",
              "      <td>151.0</td>\n",
              "      <td>265.75</td>\n",
              "      <td>455.0</td>\n",
              "    </tr>\n",
              "    <tr>\n",
              "      <th>Horsepower</th>\n",
              "      <td>314.0</td>\n",
              "      <td>104.869427</td>\n",
              "      <td>38.096214</td>\n",
              "      <td>46.0</td>\n",
              "      <td>76.25</td>\n",
              "      <td>94.5</td>\n",
              "      <td>128.00</td>\n",
              "      <td>225.0</td>\n",
              "    </tr>\n",
              "    <tr>\n",
              "      <th>Weight</th>\n",
              "      <td>314.0</td>\n",
              "      <td>2990.251592</td>\n",
              "      <td>843.898596</td>\n",
              "      <td>1649.0</td>\n",
              "      <td>2256.50</td>\n",
              "      <td>2822.5</td>\n",
              "      <td>3608.00</td>\n",
              "      <td>5140.0</td>\n",
              "    </tr>\n",
              "    <tr>\n",
              "      <th>Acceleration</th>\n",
              "      <td>314.0</td>\n",
              "      <td>15.559236</td>\n",
              "      <td>2.789230</td>\n",
              "      <td>8.0</td>\n",
              "      <td>13.80</td>\n",
              "      <td>15.5</td>\n",
              "      <td>17.20</td>\n",
              "      <td>24.8</td>\n",
              "    </tr>\n",
              "    <tr>\n",
              "      <th>Model Year</th>\n",
              "      <td>314.0</td>\n",
              "      <td>75.898089</td>\n",
              "      <td>3.675642</td>\n",
              "      <td>70.0</td>\n",
              "      <td>73.00</td>\n",
              "      <td>76.0</td>\n",
              "      <td>79.00</td>\n",
              "      <td>82.0</td>\n",
              "    </tr>\n",
              "    <tr>\n",
              "      <th>USA</th>\n",
              "      <td>314.0</td>\n",
              "      <td>0.624204</td>\n",
              "      <td>0.485101</td>\n",
              "      <td>0.0</td>\n",
              "      <td>0.00</td>\n",
              "      <td>1.0</td>\n",
              "      <td>1.00</td>\n",
              "      <td>1.0</td>\n",
              "    </tr>\n",
              "    <tr>\n",
              "      <th>Europe</th>\n",
              "      <td>314.0</td>\n",
              "      <td>0.178344</td>\n",
              "      <td>0.383413</td>\n",
              "      <td>0.0</td>\n",
              "      <td>0.00</td>\n",
              "      <td>0.0</td>\n",
              "      <td>0.00</td>\n",
              "      <td>1.0</td>\n",
              "    </tr>\n",
              "    <tr>\n",
              "      <th>Japan</th>\n",
              "      <td>314.0</td>\n",
              "      <td>0.197452</td>\n",
              "      <td>0.398712</td>\n",
              "      <td>0.0</td>\n",
              "      <td>0.00</td>\n",
              "      <td>0.0</td>\n",
              "      <td>0.00</td>\n",
              "      <td>1.0</td>\n",
              "    </tr>\n",
              "  </tbody>\n",
              "</table>\n",
              "</div>"
            ],
            "text/plain": [
              "              count         mean         std  ...     50%      75%     max\n",
              "MPG           314.0    23.310510    7.728652  ...    22.0    28.95    46.6\n",
              "Cylinders     314.0     5.477707    1.699788  ...     4.0     8.00     8.0\n",
              "Displacement  314.0   195.318471  104.331589  ...   151.0   265.75   455.0\n",
              "Horsepower    314.0   104.869427   38.096214  ...    94.5   128.00   225.0\n",
              "Weight        314.0  2990.251592  843.898596  ...  2822.5  3608.00  5140.0\n",
              "Acceleration  314.0    15.559236    2.789230  ...    15.5    17.20    24.8\n",
              "Model Year    314.0    75.898089    3.675642  ...    76.0    79.00    82.0\n",
              "USA           314.0     0.624204    0.485101  ...     1.0     1.00     1.0\n",
              "Europe        314.0     0.178344    0.383413  ...     0.0     0.00     1.0\n",
              "Japan         314.0     0.197452    0.398712  ...     0.0     0.00     1.0\n",
              "\n",
              "[10 rows x 8 columns]"
            ]
          },
          "metadata": {
            "tags": []
          },
          "execution_count": 44
        }
      ]
    },
    {
      "cell_type": "code",
      "metadata": {
        "id": "sjNDcdRhuZIv"
      },
      "source": [
        "# split features from labels\n",
        "train_features = train_dataset.copy()\n",
        "test_features = test_dataset.copy()\n",
        "\n",
        "train_labels = train_features.pop('MPG')\n",
        "test_labels = test_features.pop('MPG')"
      ],
      "execution_count": 45,
      "outputs": []
    },
    {
      "cell_type": "code",
      "metadata": {
        "id": "b-skHnEvuwk7"
      },
      "source": [
        "def plot(feature, x=None, y=None):\n",
        "  plt.figure(figsize=(10, 8))\n",
        "  plt.scatter(train_features[feature], train_labels, label='Data')\n",
        "  if x is not None and y is not None:\n",
        "    plt.plot(x, y, color='k', label='Predictions')\n",
        "  plt.xlabel(feature)\n",
        "  plt.ylabel('MPG')\n",
        "  plt.legend()"
      ],
      "execution_count": 46,
      "outputs": []
    },
    {
      "cell_type": "code",
      "metadata": {
        "colab": {
          "base_uri": "https://localhost:8080/",
          "height": 508
        },
        "id": "ALUsUNEOvISP",
        "outputId": "36fb5927-6e4b-4e22-e800-8044be3443a0"
      },
      "source": [
        "plot('Horsepower')"
      ],
      "execution_count": 47,
      "outputs": [
        {
          "output_type": "display_data",
          "data": {
            "image/png": "[encoded data removed]",
            "text/plain": [
              "<Figure size 720x576 with 1 Axes>"
            ]
          },
          "metadata": {
            "tags": []
          }
        }
      ]
    },
    {
      "cell_type": "code",
      "metadata": {
        "colab": {
          "base_uri": "https://localhost:8080/",
          "height": 508
        },
        "id": "7nxsgbKavKm7",
        "outputId": "91bd3a69-b2a7-4d0d-c1f4-e65346ad49c1"
      },
      "source": [
        "plot('Weight')"
      ],
      "execution_count": 48,
      "outputs": [
        {
          "output_type": "display_data",
          "data": {
            "image/png": "[encoded data removed]",
            "text/plain": [
              "<Figure size 720x576 with 1 Axes>"
            ]
          },
          "metadata": {
            "tags": []
          }
        }
      ]
    },
    {
      "cell_type": "code",
      "metadata": {
        "colab": {
          "base_uri": "https://localhost:8080/"
        },
        "id": "FAuUCazLvL6j",
        "outputId": "33316ae1-c192-4177-d672-b633131b65da"
      },
      "source": [
        "# Normalize\n",
        "print(train_dataset.describe().transpose()[['mean', 'std']])\n",
        "\n",
        "# Normalization \n",
        "normalizer = preprocessing.Normalization()\n",
        "\n",
        "# adapt to the data\n",
        "normalizer.adapt(np.array(train_features))\n",
        "print(normalizer.mean.numpy())"
      ],
      "execution_count": 52,
      "outputs": [
        {
          "output_type": "stream",
          "text": [
            "                     mean         std\n",
            "MPG             23.310510    7.728652\n",
            "Cylinders        5.477707    1.699788\n",
            "Displacement   195.318471  104.331589\n",
            "Horsepower     104.869427   38.096214\n",
            "Weight        2990.251592  843.898596\n",
            "Acceleration    15.559236    2.789230\n",
            "Model Year      75.898089    3.675642\n",
            "USA              0.624204    0.485101\n",
            "Europe           0.178344    0.383413\n",
            "Japan            0.197452    0.398712\n",
            "[   5.478  195.318  104.869 2990.252   15.559   75.898    0.624    0.178\n",
            "    0.197]\n"
          ],
          "name": "stdout"
        }
      ]
    },
    {
      "cell_type": "code",
      "metadata": {
        "colab": {
          "base_uri": "https://localhost:8080/"
        },
        "id": "NNKLAgBpwJXz",
        "outputId": "1bfda114-b411-4195-c3d7-5610c6226dfa"
      },
      "source": [
        "# When the layer is called it returns the input data, with each feature independently normalized:\n",
        "# (input - mean) / stddev\n",
        "first = np.array(train_features[:1])\n",
        "print('First example:', first)\n",
        "print('Normalized:', normalizer(first).numpy())"
      ],
      "execution_count": 53,
      "outputs": [
        {
          "output_type": "stream",
          "text": [
            "First example: [[   4.    90.    75.  2125.    14.5   74.     1.     0.     0. ]]\n",
            "Normalized: [[-0.871 -1.011 -0.785 -1.027 -0.38  -0.517  0.776 -0.466 -0.496]]\n"
          ],
          "name": "stdout"
        }
      ]
    },
    {
      "cell_type": "code",
      "metadata": {
        "colab": {
          "base_uri": "https://localhost:8080/"
        },
        "id": "ViTsMQwvwnWH",
        "outputId": "7948015d-07ab-43f3-9ab3-6612387fe2fe"
      },
      "source": [
        "# Regression\n",
        "#  1. Normalize the input horsepower\n",
        "#  2. Apply a linear transformation ( y = m*x+b ) to produce 1 output using layers.Dense\n",
        "feature = 'Horsepower'\n",
        "single_feature = np.array(train_features[feature])\n",
        "print(single_feature.shape, train_features.shape)\n",
        "\n",
        "# Normalization \n",
        "single_feature_normalizer = preprocessing.Normalization()\n",
        "\n",
        "# adapt to the data\n",
        "single_feature_normalizer.adapt(np.array(single_feature))"
      ],
      "execution_count": 55,
      "outputs": [
        {
          "output_type": "stream",
          "text": [
            "(314,) (314, 9)\n"
          ],
          "name": "stdout"
        }
      ]
    },
    {
      "cell_type": "code",
      "metadata": {
        "id": "7zbXKwuyxqp-"
      },
      "source": [
        "# Sequential model\n",
        "single_feature_model = keras.models.Sequential(\n",
        "    [\n",
        "     single_feature_normalizer,\n",
        "     layers.Dense(units=1) # Linear Model\n",
        "    ]\n",
        ")"
      ],
      "execution_count": 56,
      "outputs": []
    },
    {
      "cell_type": "code",
      "metadata": {
        "colab": {
          "base_uri": "https://localhost:8080/"
        },
        "id": "pADZUC6FxWmj",
        "outputId": "a9983db8-9c28-4825-c914-14d29ca72507"
      },
      "source": [
        "single_feature_model.summary()"
      ],
      "execution_count": 57,
      "outputs": [
        {
          "output_type": "stream",
          "text": [
            "Model: \"sequential_1\"\n",
            "_________________________________________________________________\n",
            "Layer (type)                 Output Shape              Param #   \n",
            "=================================================================\n",
            "normalization_3 (Normalizati (None, 1)                 3         \n",
            "_________________________________________________________________\n",
            "dense_2 (Dense)              (None, 1)                 2         \n",
            "=================================================================\n",
            "Total params: 5\n",
            "Trainable params: 2\n",
            "Non-trainable params: 3\n",
            "_________________________________________________________________\n"
          ],
          "name": "stdout"
        }
      ]
    },
    {
      "cell_type": "code",
      "metadata": {
        "id": "L0xqwOYewGr2"
      },
      "source": [
        "# loss and optimizer\n",
        "loss = keras.losses.MeanAbsoluteError()\n",
        "optim = keras.optimizers.Adam(lr=.1)\n",
        "\n",
        "single_feature_model.compile(optimizer=optim, loss=loss)"
      ],
      "execution_count": 58,
      "outputs": []
    },
    {
      "cell_type": "code",
      "metadata": {
        "colab": {
          "base_uri": "https://localhost:8080/"
        },
        "id": "9QmZsOPiwDKT",
        "outputId": "05a1e631-33f2-4776-db09-4696ffe3cc6e"
      },
      "source": [
        "history = single_feature_model.fit(\n",
        "    train_features[feature], train_labels,\n",
        "    epochs=100,\n",
        "    verbose = 1,\n",
        "    # Calculate validation results on 20% of the training data\n",
        "    validation_split = .2\n",
        ")"
      ],
      "execution_count": 60,
      "outputs": [
        {
          "output_type": "stream",
          "text": [
            "Epoch 1/100\n",
            "8/8 [==============================] - 0s 20ms/step - loss: 22.8665 - val_loss: 22.9327\n",
            "Epoch 2/100\n",
            "8/8 [==============================] - 0s 3ms/step - loss: 22.0631 - val_loss: 22.1328\n",
            "Epoch 3/100\n",
            "8/8 [==============================] - 0s 3ms/step - loss: 21.2621 - val_loss: 21.3328\n",
            "Epoch 4/100\n",
            "8/8 [==============================] - 0s 3ms/step - loss: 20.4650 - val_loss: 20.5330\n",
            "Epoch 5/100\n",
            "8/8 [==============================] - 0s 3ms/step - loss: 19.6634 - val_loss: 19.7331\n",
            "Epoch 6/100\n",
            "8/8 [==============================] - 0s 3ms/step - loss: 18.8618 - val_loss: 18.9330\n",
            "Epoch 7/100\n",
            "8/8 [==============================] - 0s 3ms/step - loss: 18.0622 - val_loss: 18.1329\n",
            "Epoch 8/100\n",
            "8/8 [==============================] - 0s 3ms/step - loss: 17.2623 - val_loss: 17.3328\n",
            "Epoch 9/100\n",
            "8/8 [==============================] - 0s 3ms/step - loss: 16.4661 - val_loss: 16.5330\n",
            "Epoch 10/100\n",
            "8/8 [==============================] - 0s 3ms/step - loss: 15.6633 - val_loss: 15.7328\n",
            "Epoch 11/100\n",
            "8/8 [==============================] - 0s 3ms/step - loss: 14.8630 - val_loss: 14.9329\n",
            "Epoch 12/100\n",
            "8/8 [==============================] - 0s 3ms/step - loss: 14.0616 - val_loss: 14.1328\n",
            "Epoch 13/100\n",
            "8/8 [==============================] - 0s 3ms/step - loss: 13.2620 - val_loss: 13.3327\n",
            "Epoch 14/100\n",
            "8/8 [==============================] - 0s 3ms/step - loss: 12.4621 - val_loss: 12.5327\n",
            "Epoch 15/100\n",
            "8/8 [==============================] - 0s 3ms/step - loss: 11.6657 - val_loss: 11.7335\n",
            "Epoch 16/100\n",
            "8/8 [==============================] - 0s 3ms/step - loss: 10.8729 - val_loss: 10.9425\n",
            "Epoch 17/100\n",
            "8/8 [==============================] - 0s 3ms/step - loss: 10.0927 - val_loss: 10.1748\n",
            "Epoch 18/100\n",
            "8/8 [==============================] - 0s 3ms/step - loss: 9.3242 - val_loss: 9.4023\n",
            "Epoch 19/100\n",
            "8/8 [==============================] - 0s 3ms/step - loss: 8.5869 - val_loss: 8.6610\n",
            "Epoch 20/100\n",
            "8/8 [==============================] - 0s 3ms/step - loss: 7.8891 - val_loss: 7.9361\n",
            "Epoch 21/100\n",
            "8/8 [==============================] - 0s 3ms/step - loss: 7.2318 - val_loss: 7.2241\n",
            "Epoch 22/100\n",
            "8/8 [==============================] - 0s 3ms/step - loss: 6.5784 - val_loss: 6.5872\n",
            "Epoch 23/100\n",
            "8/8 [==============================] - 0s 3ms/step - loss: 5.9913 - val_loss: 6.0118\n",
            "Epoch 24/100\n",
            "8/8 [==============================] - 0s 3ms/step - loss: 5.4862 - val_loss: 5.5787\n",
            "Epoch 25/100\n",
            "8/8 [==============================] - 0s 3ms/step - loss: 5.0709 - val_loss: 5.2294\n",
            "Epoch 26/100\n",
            "8/8 [==============================] - 0s 3ms/step - loss: 4.7324 - val_loss: 5.0046\n",
            "Epoch 27/100\n",
            "8/8 [==============================] - 0s 4ms/step - loss: 4.4877 - val_loss: 4.8220\n",
            "Epoch 28/100\n",
            "8/8 [==============================] - 0s 3ms/step - loss: 4.2998 - val_loss: 4.6657\n",
            "Epoch 29/100\n",
            "8/8 [==============================] - 0s 3ms/step - loss: 4.1375 - val_loss: 4.5461\n",
            "Epoch 30/100\n",
            "8/8 [==============================] - 0s 3ms/step - loss: 4.0381 - val_loss: 4.4745\n",
            "Epoch 31/100\n",
            "8/8 [==============================] - 0s 5ms/step - loss: 3.9636 - val_loss: 4.3966\n",
            "Epoch 32/100\n",
            "8/8 [==============================] - 0s 3ms/step - loss: 3.9034 - val_loss: 4.3151\n",
            "Epoch 33/100\n",
            "8/8 [==============================] - 0s 3ms/step - loss: 3.8612 - val_loss: 4.2705\n",
            "Epoch 34/100\n",
            "8/8 [==============================] - 0s 3ms/step - loss: 3.8436 - val_loss: 4.2410\n",
            "Epoch 35/100\n",
            "8/8 [==============================] - 0s 3ms/step - loss: 3.8287 - val_loss: 4.2371\n",
            "Epoch 36/100\n",
            "8/8 [==============================] - 0s 3ms/step - loss: 3.8226 - val_loss: 4.2323\n",
            "Epoch 37/100\n",
            "8/8 [==============================] - 0s 3ms/step - loss: 3.8138 - val_loss: 4.2205\n",
            "Epoch 38/100\n",
            "8/8 [==============================] - 0s 3ms/step - loss: 3.8089 - val_loss: 4.2151\n",
            "Epoch 39/100\n",
            "8/8 [==============================] - 0s 3ms/step - loss: 3.8043 - val_loss: 4.2146\n",
            "Epoch 40/100\n",
            "8/8 [==============================] - 0s 3ms/step - loss: 3.8049 - val_loss: 4.2088\n",
            "Epoch 41/100\n",
            "8/8 [==============================] - 0s 3ms/step - loss: 3.8083 - val_loss: 4.2142\n",
            "Epoch 42/100\n",
            "8/8 [==============================] - 0s 3ms/step - loss: 3.8035 - val_loss: 4.1966\n",
            "Epoch 43/100\n",
            "8/8 [==============================] - 0s 3ms/step - loss: 3.8039 - val_loss: 4.1786\n",
            "Epoch 44/100\n",
            "8/8 [==============================] - 0s 3ms/step - loss: 3.8033 - val_loss: 4.1971\n",
            "Epoch 45/100\n",
            "8/8 [==============================] - 0s 4ms/step - loss: 3.8037 - val_loss: 4.1905\n",
            "Epoch 46/100\n",
            "8/8 [==============================] - 0s 4ms/step - loss: 3.8125 - val_loss: 4.2123\n",
            "Epoch 47/100\n",
            "8/8 [==============================] - 0s 4ms/step - loss: 3.8048 - val_loss: 4.1965\n",
            "Epoch 48/100\n",
            "8/8 [==============================] - 0s 4ms/step - loss: 3.8020 - val_loss: 4.1804\n",
            "Epoch 49/100\n",
            "8/8 [==============================] - 0s 3ms/step - loss: 3.8086 - val_loss: 4.1937\n",
            "Epoch 50/100\n",
            "8/8 [==============================] - 0s 3ms/step - loss: 3.8024 - val_loss: 4.1762\n",
            "Epoch 51/100\n",
            "8/8 [==============================] - 0s 3ms/step - loss: 3.8046 - val_loss: 4.1738\n",
            "Epoch 52/100\n",
            "8/8 [==============================] - 0s 4ms/step - loss: 3.8063 - val_loss: 4.2000\n",
            "Epoch 53/100\n",
            "8/8 [==============================] - 0s 3ms/step - loss: 3.8024 - val_loss: 4.1782\n",
            "Epoch 54/100\n",
            "8/8 [==============================] - 0s 3ms/step - loss: 3.8062 - val_loss: 4.1834\n",
            "Epoch 55/100\n",
            "8/8 [==============================] - 0s 3ms/step - loss: 3.8030 - val_loss: 4.1875\n",
            "Epoch 56/100\n",
            "8/8 [==============================] - 0s 3ms/step - loss: 3.8051 - val_loss: 4.2001\n",
            "Epoch 57/100\n",
            "8/8 [==============================] - 0s 3ms/step - loss: 3.8021 - val_loss: 4.1862\n",
            "Epoch 58/100\n",
            "8/8 [==============================] - 0s 3ms/step - loss: 3.8023 - val_loss: 4.1861\n",
            "Epoch 59/100\n",
            "8/8 [==============================] - 0s 3ms/step - loss: 3.8049 - val_loss: 4.1810\n",
            "Epoch 60/100\n",
            "8/8 [==============================] - 0s 3ms/step - loss: 3.8033 - val_loss: 4.1938\n",
            "Epoch 61/100\n",
            "8/8 [==============================] - 0s 3ms/step - loss: 3.8051 - val_loss: 4.1836\n",
            "Epoch 62/100\n",
            "8/8 [==============================] - 0s 3ms/step - loss: 3.8060 - val_loss: 4.2102\n",
            "Epoch 63/100\n",
            "8/8 [==============================] - 0s 3ms/step - loss: 3.8024 - val_loss: 4.1868\n",
            "Epoch 64/100\n",
            "8/8 [==============================] - 0s 4ms/step - loss: 3.8030 - val_loss: 4.1866\n",
            "Epoch 65/100\n",
            "8/8 [==============================] - 0s 3ms/step - loss: 3.8033 - val_loss: 4.1929\n",
            "Epoch 66/100\n",
            "8/8 [==============================] - 0s 3ms/step - loss: 3.8061 - val_loss: 4.1814\n",
            "Epoch 67/100\n",
            "8/8 [==============================] - 0s 3ms/step - loss: 3.8035 - val_loss: 4.1855\n",
            "Epoch 68/100\n",
            "8/8 [==============================] - 0s 3ms/step - loss: 3.8023 - val_loss: 4.1980\n",
            "Epoch 69/100\n",
            "8/8 [==============================] - 0s 3ms/step - loss: 3.8039 - val_loss: 4.2055\n",
            "Epoch 70/100\n",
            "8/8 [==============================] - 0s 3ms/step - loss: 3.8074 - val_loss: 4.2071\n",
            "Epoch 71/100\n",
            "8/8 [==============================] - 0s 3ms/step - loss: 3.8037 - val_loss: 4.1710\n",
            "Epoch 72/100\n",
            "8/8 [==============================] - 0s 3ms/step - loss: 3.8057 - val_loss: 4.1673\n",
            "Epoch 73/100\n",
            "8/8 [==============================] - 0s 4ms/step - loss: 3.8049 - val_loss: 4.1659\n",
            "Epoch 74/100\n",
            "8/8 [==============================] - 0s 4ms/step - loss: 3.8041 - val_loss: 4.1736\n",
            "Epoch 75/100\n",
            "8/8 [==============================] - 0s 4ms/step - loss: 3.8063 - val_loss: 4.1998\n",
            "Epoch 76/100\n",
            "8/8 [==============================] - 0s 4ms/step - loss: 3.8051 - val_loss: 4.1923\n",
            "Epoch 77/100\n",
            "8/8 [==============================] - 0s 3ms/step - loss: 3.8029 - val_loss: 4.1973\n",
            "Epoch 78/100\n",
            "8/8 [==============================] - 0s 4ms/step - loss: 3.8034 - val_loss: 4.1771\n",
            "Epoch 79/100\n",
            "8/8 [==============================] - 0s 3ms/step - loss: 3.8044 - val_loss: 4.1875\n",
            "Epoch 80/100\n",
            "8/8 [==============================] - 0s 4ms/step - loss: 3.8036 - val_loss: 4.1932\n",
            "Epoch 81/100\n",
            "8/8 [==============================] - 0s 3ms/step - loss: 3.8031 - val_loss: 4.1839\n",
            "Epoch 82/100\n",
            "8/8 [==============================] - 0s 3ms/step - loss: 3.8057 - val_loss: 4.2039\n",
            "Epoch 83/100\n",
            "8/8 [==============================] - 0s 3ms/step - loss: 3.8063 - val_loss: 4.1739\n",
            "Epoch 84/100\n",
            "8/8 [==============================] - 0s 3ms/step - loss: 3.8049 - val_loss: 4.1834\n",
            "Epoch 85/100\n",
            "8/8 [==============================] - 0s 3ms/step - loss: 3.8037 - val_loss: 4.1921\n",
            "Epoch 86/100\n",
            "8/8 [==============================] - 0s 3ms/step - loss: 3.8055 - val_loss: 4.2138\n",
            "Epoch 87/100\n",
            "8/8 [==============================] - 0s 3ms/step - loss: 3.8063 - val_loss: 4.2156\n",
            "Epoch 88/100\n",
            "8/8 [==============================] - 0s 3ms/step - loss: 3.8084 - val_loss: 4.1633\n",
            "Epoch 89/100\n",
            "8/8 [==============================] - 0s 3ms/step - loss: 3.8056 - val_loss: 4.1600\n",
            "Epoch 90/100\n",
            "8/8 [==============================] - 0s 3ms/step - loss: 3.8056 - val_loss: 4.1762\n",
            "Epoch 91/100\n",
            "8/8 [==============================] - 0s 4ms/step - loss: 3.8058 - val_loss: 4.1882\n",
            "Epoch 92/100\n",
            "8/8 [==============================] - 0s 3ms/step - loss: 3.8050 - val_loss: 4.1856\n",
            "Epoch 93/100\n",
            "8/8 [==============================] - 0s 3ms/step - loss: 3.8036 - val_loss: 4.2009\n",
            "Epoch 94/100\n",
            "8/8 [==============================] - 0s 3ms/step - loss: 3.8070 - val_loss: 4.1892\n",
            "Epoch 95/100\n",
            "8/8 [==============================] - 0s 3ms/step - loss: 3.8035 - val_loss: 4.1983\n",
            "Epoch 96/100\n",
            "8/8 [==============================] - 0s 4ms/step - loss: 3.8050 - val_loss: 4.1881\n",
            "Epoch 97/100\n",
            "8/8 [==============================] - 0s 3ms/step - loss: 3.8030 - val_loss: 4.2151\n",
            "Epoch 98/100\n",
            "8/8 [==============================] - 0s 3ms/step - loss: 3.8056 - val_loss: 4.2059\n",
            "Epoch 99/100\n",
            "8/8 [==============================] - 0s 3ms/step - loss: 3.8017 - val_loss: 4.1855\n",
            "Epoch 100/100\n",
            "8/8 [==============================] - 0s 4ms/step - loss: 3.8077 - val_loss: 4.1611\n"
          ],
          "name": "stdout"
        }
      ]
    },
    {
      "cell_type": "code",
      "metadata": {
        "colab": {
          "base_uri": "https://localhost:8080/"
        },
        "id": "vnuJZHopzPLE",
        "outputId": "37967e84-73fb-4b92-e7e7-93e7df34e751"
      },
      "source": [
        "history.history.keys()"
      ],
      "execution_count": 63,
      "outputs": [
        {
          "output_type": "execute_result",
          "data": {
            "text/plain": [
              "dict_keys(['loss', 'val_loss'])"
            ]
          },
          "metadata": {
            "tags": []
          },
          "execution_count": 63
        }
      ]
    },
    {
      "cell_type": "code",
      "metadata": {
        "colab": {
          "base_uri": "https://localhost:8080/",
          "height": 309
        },
        "id": "CZOMV75MvvL_",
        "outputId": "7c90ed27-af06-466b-b7b9-d730d96ea9bc"
      },
      "source": [
        "def plot_loss(history):\n",
        "  plt.plot(history.history['loss'], label='loss')\n",
        "  plt.plot(history.history['val_loss'], label='val_loss')\n",
        "  plt.ylim([0, 25])\n",
        "  plt.xlabel('Epoch')\n",
        "  plt.ylabel('Error [MPG]')\n",
        "  plt.legend()\n",
        "  plt.grid(True)\n",
        "plot_loss(history)"
      ],
      "execution_count": 67,
      "outputs": [
        {
          "output_type": "display_data",
          "data": {
            "image/png": "[encoded data removed]",
            "text/plain": [
              "<Figure size 432x288 with 1 Axes>"
            ]
          },
          "metadata": {
            "tags": []
          }
        }
      ]
    },
    {
      "cell_type": "code",
      "metadata": {
        "colab": {
          "base_uri": "https://localhost:8080/"
        },
        "id": "syk8W8tBzxf3",
        "outputId": "eaab2117-ebcd-4927-d204-95ac168fae6a"
      },
      "source": [
        "single_feature_model.evaluate(\n",
        "    test_features[feature],\n",
        "    test_labels, verbose=1\n",
        ")"
      ],
      "execution_count": 69,
      "outputs": [
        {
          "output_type": "stream",
          "text": [
            "3/3 [==============================] - 0s 3ms/step - loss: 3.6466\n"
          ],
          "name": "stdout"
        },
        {
          "output_type": "execute_result",
          "data": {
            "text/plain": [
              "3.646599054336548"
            ]
          },
          "metadata": {
            "tags": []
          },
          "execution_count": 69
        }
      ]
    },
    {
      "cell_type": "code",
      "metadata": {
        "colab": {
          "base_uri": "https://localhost:8080/",
          "height": 499
        },
        "id": "2AjKm8myz4be",
        "outputId": "6c9472ea-8141-423f-9ad2-162513284691"
      },
      "source": [
        "# predict and plot\n",
        "range_min = np.min(test_features[feature]) - 10\n",
        "range_max = np.max(test_features[feature]) + 10\n",
        "x = tf.linspace(range_min, range_max, 200)\n",
        "y = single_feature_model.predict(x)\n",
        "\n",
        "plot(feature, x, y)"
      ],
      "execution_count": 71,
      "outputs": [
        {
          "output_type": "display_data",
          "data": {
            "image/png": "[encoded data removed]",
            "text/plain": [
              "<Figure size 720x576 with 1 Axes>"
            ]
          },
          "metadata": {
            "tags": []
          }
        }
      ]
    },
    {
      "cell_type": "code",
      "metadata": {
        "id": "_IKDvVfE0SqD"
      },
      "source": [
        " # DNN\n",
        " dnn_model = keras.Sequential(\n",
        "     [\n",
        "      single_feature_normalizer,\n",
        "      layers.Dense(64, activation='relu'),\n",
        "      layers.Dense(64, activation='relu'),\n",
        "      layers.Dense(1)\n",
        "     ]\n",
        " )"
      ],
      "execution_count": 72,
      "outputs": []
    },
    {
      "cell_type": "code",
      "metadata": {
        "colab": {
          "base_uri": "https://localhost:8080/"
        },
        "id": "aTPpnra51Skx",
        "outputId": "fb41c756-b9b1-4d72-b699-46ed39e764a8"
      },
      "source": [
        "dnn_model.compile(loss=loss, optimizer=tf.keras.optimizers.Adam(0.001))\n",
        "\n",
        "dnn_model.summary()"
      ],
      "execution_count": 73,
      "outputs": [
        {
          "output_type": "stream",
          "text": [
            "Model: \"sequential_2\"\n",
            "_________________________________________________________________\n",
            "Layer (type)                 Output Shape              Param #   \n",
            "=================================================================\n",
            "normalization_3 (Normalizati (None, 1)                 3         \n",
            "_________________________________________________________________\n",
            "dense_3 (Dense)              (None, 64)                128       \n",
            "_________________________________________________________________\n",
            "dense_4 (Dense)              (None, 64)                4160      \n",
            "_________________________________________________________________\n",
            "dense_5 (Dense)              (None, 1)                 65        \n",
            "=================================================================\n",
            "Total params: 4,356\n",
            "Trainable params: 4,353\n",
            "Non-trainable params: 3\n",
            "_________________________________________________________________\n"
          ],
          "name": "stdout"
        }
      ]
    },
    {
      "cell_type": "code",
      "metadata": {
        "colab": {
          "base_uri": "https://localhost:8080/"
        },
        "id": "AOD1R6FH1fDO",
        "outputId": "a2a25d5c-1e02-4346-b7be-87860a322167"
      },
      "source": [
        "dnn_model.fit(\n",
        "    train_features[feature], train_labels,\n",
        "    validation_split=.2,\n",
        "    verbose=1, epochs=100\n",
        ")"
      ],
      "execution_count": 74,
      "outputs": [
        {
          "output_type": "stream",
          "text": [
            "Epoch 1/100\n",
            "8/8 [==============================] - 0s 15ms/step - loss: 23.1200 - val_loss: 23.5108\n",
            "Epoch 2/100\n",
            "8/8 [==============================] - 0s 3ms/step - loss: 22.8975 - val_loss: 23.2739\n",
            "Epoch 3/100\n",
            "8/8 [==============================] - 0s 3ms/step - loss: 22.6637 - val_loss: 22.9921\n",
            "Epoch 4/100\n",
            "8/8 [==============================] - 0s 3ms/step - loss: 22.3628 - val_loss: 22.6264\n",
            "Epoch 5/100\n",
            "8/8 [==============================] - 0s 3ms/step - loss: 21.9743 - val_loss: 22.1576\n",
            "Epoch 6/100\n",
            "8/8 [==============================] - 0s 3ms/step - loss: 21.4731 - val_loss: 21.5394\n",
            "Epoch 7/100\n",
            "8/8 [==============================] - 0s 3ms/step - loss: 20.7986 - val_loss: 20.7504\n",
            "Epoch 8/100\n",
            "8/8 [==============================] - 0s 3ms/step - loss: 19.9660 - val_loss: 19.7526\n",
            "Epoch 9/100\n",
            "8/8 [==============================] - 0s 4ms/step - loss: 18.9097 - val_loss: 18.5546\n",
            "Epoch 10/100\n",
            "8/8 [==============================] - 0s 4ms/step - loss: 17.6967 - val_loss: 17.1895\n",
            "Epoch 11/100\n",
            "8/8 [==============================] - 0s 3ms/step - loss: 16.3929 - val_loss: 15.7891\n",
            "Epoch 12/100\n",
            "8/8 [==============================] - 0s 3ms/step - loss: 14.8772 - val_loss: 14.3465\n",
            "Epoch 13/100\n",
            "8/8 [==============================] - 0s 3ms/step - loss: 13.2194 - val_loss: 12.7669\n",
            "Epoch 14/100\n",
            "8/8 [==============================] - 0s 4ms/step - loss: 11.3893 - val_loss: 10.9528\n",
            "Epoch 15/100\n",
            "8/8 [==============================] - 0s 3ms/step - loss: 9.3440 - val_loss: 8.9120\n",
            "Epoch 16/100\n",
            "8/8 [==============================] - 0s 3ms/step - loss: 7.1396 - val_loss: 6.8274\n",
            "Epoch 17/100\n",
            "8/8 [==============================] - 0s 3ms/step - loss: 5.1025 - val_loss: 5.3932\n",
            "Epoch 18/100\n",
            "8/8 [==============================] - 0s 3ms/step - loss: 4.1853 - val_loss: 5.1872\n",
            "Epoch 19/100\n",
            "8/8 [==============================] - 0s 4ms/step - loss: 4.0468 - val_loss: 5.1090\n",
            "Epoch 20/100\n",
            "8/8 [==============================] - 0s 4ms/step - loss: 3.9864 - val_loss: 4.9082\n",
            "Epoch 21/100\n",
            "8/8 [==============================] - 0s 3ms/step - loss: 3.9291 - val_loss: 4.7742\n",
            "Epoch 22/100\n",
            "8/8 [==============================] - 0s 3ms/step - loss: 3.8756 - val_loss: 4.7119\n",
            "Epoch 23/100\n",
            "8/8 [==============================] - 0s 4ms/step - loss: 3.8311 - val_loss: 4.6637\n",
            "Epoch 24/100\n",
            "8/8 [==============================] - 0s 3ms/step - loss: 3.7939 - val_loss: 4.6478\n",
            "Epoch 25/100\n",
            "8/8 [==============================] - 0s 3ms/step - loss: 3.7538 - val_loss: 4.6079\n",
            "Epoch 26/100\n",
            "8/8 [==============================] - 0s 4ms/step - loss: 3.7260 - val_loss: 4.5316\n",
            "Epoch 27/100\n",
            "8/8 [==============================] - 0s 4ms/step - loss: 3.6930 - val_loss: 4.4883\n",
            "Epoch 28/100\n",
            "8/8 [==============================] - 0s 3ms/step - loss: 3.6671 - val_loss: 4.4464\n",
            "Epoch 29/100\n",
            "8/8 [==============================] - 0s 3ms/step - loss: 3.6493 - val_loss: 4.4033\n",
            "Epoch 30/100\n",
            "8/8 [==============================] - 0s 3ms/step - loss: 3.6366 - val_loss: 4.3642\n",
            "Epoch 31/100\n",
            "8/8 [==============================] - 0s 4ms/step - loss: 3.6119 - val_loss: 4.3313\n",
            "Epoch 32/100\n",
            "8/8 [==============================] - 0s 4ms/step - loss: 3.5972 - val_loss: 4.2938\n",
            "Epoch 33/100\n",
            "8/8 [==============================] - 0s 4ms/step - loss: 3.5811 - val_loss: 4.2553\n",
            "Epoch 34/100\n",
            "8/8 [==============================] - 0s 4ms/step - loss: 3.5629 - val_loss: 4.2396\n",
            "Epoch 35/100\n",
            "8/8 [==============================] - 0s 3ms/step - loss: 3.5531 - val_loss: 4.2183\n",
            "Epoch 36/100\n",
            "8/8 [==============================] - 0s 3ms/step - loss: 3.5440 - val_loss: 4.1714\n",
            "Epoch 37/100\n",
            "8/8 [==============================] - 0s 4ms/step - loss: 3.5295 - val_loss: 4.1664\n",
            "Epoch 38/100\n",
            "8/8 [==============================] - 0s 3ms/step - loss: 3.5176 - val_loss: 4.1434\n",
            "Epoch 39/100\n",
            "8/8 [==============================] - 0s 3ms/step - loss: 3.5077 - val_loss: 4.1388\n",
            "Epoch 40/100\n",
            "8/8 [==============================] - 0s 3ms/step - loss: 3.4981 - val_loss: 4.1183\n",
            "Epoch 41/100\n",
            "8/8 [==============================] - 0s 3ms/step - loss: 3.4848 - val_loss: 4.1000\n",
            "Epoch 42/100\n",
            "8/8 [==============================] - 0s 4ms/step - loss: 3.4714 - val_loss: 4.0791\n",
            "Epoch 43/100\n",
            "8/8 [==============================] - 0s 3ms/step - loss: 3.4618 - val_loss: 4.0570\n",
            "Epoch 44/100\n",
            "8/8 [==============================] - 0s 3ms/step - loss: 3.4488 - val_loss: 4.0440\n",
            "Epoch 45/100\n",
            "8/8 [==============================] - 0s 4ms/step - loss: 3.4393 - val_loss: 4.0271\n",
            "Epoch 46/100\n",
            "8/8 [==============================] - 0s 3ms/step - loss: 3.4290 - val_loss: 3.9983\n",
            "Epoch 47/100\n",
            "8/8 [==============================] - 0s 3ms/step - loss: 3.4197 - val_loss: 3.9882\n",
            "Epoch 48/100\n",
            "8/8 [==============================] - 0s 3ms/step - loss: 3.4056 - val_loss: 3.9689\n",
            "Epoch 49/100\n",
            "8/8 [==============================] - 0s 4ms/step - loss: 3.3915 - val_loss: 3.9471\n",
            "Epoch 50/100\n",
            "8/8 [==============================] - 0s 4ms/step - loss: 3.3972 - val_loss: 3.9349\n",
            "Epoch 51/100\n",
            "8/8 [==============================] - 0s 3ms/step - loss: 3.3711 - val_loss: 3.9242\n",
            "Epoch 52/100\n",
            "8/8 [==============================] - 0s 3ms/step - loss: 3.3673 - val_loss: 3.9056\n",
            "Epoch 53/100\n",
            "8/8 [==============================] - 0s 4ms/step - loss: 3.3644 - val_loss: 3.8807\n",
            "Epoch 54/100\n",
            "8/8 [==============================] - 0s 3ms/step - loss: 3.3539 - val_loss: 3.8824\n",
            "Epoch 55/100\n",
            "8/8 [==============================] - 0s 4ms/step - loss: 3.3484 - val_loss: 3.8650\n",
            "Epoch 56/100\n",
            "8/8 [==============================] - 0s 4ms/step - loss: 3.3299 - val_loss: 3.8446\n",
            "Epoch 57/100\n",
            "8/8 [==============================] - 0s 4ms/step - loss: 3.3305 - val_loss: 3.8286\n",
            "Epoch 58/100\n",
            "8/8 [==============================] - 0s 4ms/step - loss: 3.3270 - val_loss: 3.8346\n",
            "Epoch 59/100\n",
            "8/8 [==============================] - 0s 4ms/step - loss: 3.3172 - val_loss: 3.8142\n",
            "Epoch 60/100\n",
            "8/8 [==============================] - 0s 4ms/step - loss: 3.3083 - val_loss: 3.8098\n",
            "Epoch 61/100\n",
            "8/8 [==============================] - 0s 4ms/step - loss: 3.3087 - val_loss: 3.8019\n",
            "Epoch 62/100\n",
            "8/8 [==============================] - 0s 3ms/step - loss: 3.2975 - val_loss: 3.7900\n",
            "Epoch 63/100\n",
            "8/8 [==============================] - 0s 4ms/step - loss: 3.2957 - val_loss: 3.7836\n",
            "Epoch 64/100\n",
            "8/8 [==============================] - 0s 3ms/step - loss: 3.2922 - val_loss: 3.7838\n",
            "Epoch 65/100\n",
            "8/8 [==============================] - 0s 3ms/step - loss: 3.2981 - val_loss: 3.7776\n",
            "Epoch 66/100\n",
            "8/8 [==============================] - 0s 3ms/step - loss: 3.2760 - val_loss: 3.7674\n",
            "Epoch 67/100\n",
            "8/8 [==============================] - 0s 3ms/step - loss: 3.2809 - val_loss: 3.7728\n",
            "Epoch 68/100\n",
            "8/8 [==============================] - 0s 4ms/step - loss: 3.2785 - val_loss: 3.7739\n",
            "Epoch 69/100\n",
            "8/8 [==============================] - 0s 3ms/step - loss: 3.2744 - val_loss: 3.7721\n",
            "Epoch 70/100\n",
            "8/8 [==============================] - 0s 3ms/step - loss: 3.2736 - val_loss: 3.7702\n",
            "Epoch 71/100\n",
            "8/8 [==============================] - 0s 4ms/step - loss: 3.2697 - val_loss: 3.7740\n",
            "Epoch 72/100\n",
            "8/8 [==============================] - 0s 4ms/step - loss: 3.2691 - val_loss: 3.7641\n",
            "Epoch 73/100\n",
            "8/8 [==============================] - 0s 4ms/step - loss: 3.2696 - val_loss: 3.7680\n",
            "Epoch 74/100\n",
            "8/8 [==============================] - 0s 3ms/step - loss: 3.2662 - val_loss: 3.7843\n",
            "Epoch 75/100\n",
            "8/8 [==============================] - 0s 3ms/step - loss: 3.2748 - val_loss: 3.7774\n",
            "Epoch 76/100\n",
            "8/8 [==============================] - 0s 4ms/step - loss: 3.2646 - val_loss: 3.7715\n",
            "Epoch 77/100\n",
            "8/8 [==============================] - 0s 3ms/step - loss: 3.2781 - val_loss: 3.7626\n",
            "Epoch 78/100\n",
            "8/8 [==============================] - 0s 3ms/step - loss: 3.2649 - val_loss: 3.7841\n",
            "Epoch 79/100\n",
            "8/8 [==============================] - 0s 4ms/step - loss: 3.2655 - val_loss: 3.7747\n",
            "Epoch 80/100\n",
            "8/8 [==============================] - 0s 4ms/step - loss: 3.2749 - val_loss: 3.7904\n",
            "Epoch 81/100\n",
            "8/8 [==============================] - 0s 4ms/step - loss: 3.2683 - val_loss: 3.7651\n",
            "Epoch 82/100\n",
            "8/8 [==============================] - 0s 3ms/step - loss: 3.2625 - val_loss: 3.7683\n",
            "Epoch 83/100\n",
            "8/8 [==============================] - 0s 3ms/step - loss: 3.2678 - val_loss: 3.7743\n",
            "Epoch 84/100\n",
            "8/8 [==============================] - 0s 4ms/step - loss: 3.2609 - val_loss: 3.7742\n",
            "Epoch 85/100\n",
            "8/8 [==============================] - 0s 4ms/step - loss: 3.2641 - val_loss: 3.7605\n",
            "Epoch 86/100\n",
            "8/8 [==============================] - 0s 4ms/step - loss: 3.2590 - val_loss: 3.7834\n",
            "Epoch 87/100\n",
            "8/8 [==============================] - 0s 4ms/step - loss: 3.2580 - val_loss: 3.7744\n",
            "Epoch 88/100\n",
            "8/8 [==============================] - 0s 4ms/step - loss: 3.2596 - val_loss: 3.7716\n",
            "Epoch 89/100\n",
            "8/8 [==============================] - 0s 3ms/step - loss: 3.2550 - val_loss: 3.7762\n",
            "Epoch 90/100\n",
            "8/8 [==============================] - 0s 3ms/step - loss: 3.2649 - val_loss: 3.7864\n",
            "Epoch 91/100\n",
            "8/8 [==============================] - 0s 3ms/step - loss: 3.2504 - val_loss: 3.7615\n",
            "Epoch 92/100\n",
            "8/8 [==============================] - 0s 4ms/step - loss: 3.2647 - val_loss: 3.7561\n",
            "Epoch 93/100\n",
            "8/8 [==============================] - 0s 4ms/step - loss: 3.2549 - val_loss: 3.7641\n",
            "Epoch 94/100\n",
            "8/8 [==============================] - 0s 4ms/step - loss: 3.2563 - val_loss: 3.7947\n",
            "Epoch 95/100\n",
            "8/8 [==============================] - 0s 3ms/step - loss: 3.2580 - val_loss: 3.7679\n",
            "Epoch 96/100\n",
            "8/8 [==============================] - 0s 3ms/step - loss: 3.2500 - val_loss: 3.7715\n",
            "Epoch 97/100\n",
            "8/8 [==============================] - 0s 3ms/step - loss: 3.2492 - val_loss: 3.7623\n",
            "Epoch 98/100\n",
            "8/8 [==============================] - 0s 4ms/step - loss: 3.2497 - val_loss: 3.7589\n",
            "Epoch 99/100\n",
            "8/8 [==============================] - 0s 6ms/step - loss: 3.2486 - val_loss: 3.7639\n",
            "Epoch 100/100\n",
            "8/8 [==============================] - 0s 4ms/step - loss: 3.2497 - val_loss: 3.7663\n"
          ],
          "name": "stdout"
        },
        {
          "output_type": "execute_result",
          "data": {
            "text/plain": [
              "<tensorflow.python.keras.callbacks.History at 0x7f05ff74e8d0>"
            ]
          },
          "metadata": {
            "tags": []
          },
          "execution_count": 74
        }
      ]
    },
    {
      "cell_type": "code",
      "metadata": {
        "colab": {
          "base_uri": "https://localhost:8080/"
        },
        "id": "F_viY3KD1t93",
        "outputId": "272dd4d7-a860-43ff-f31a-1f9c3bc11a03"
      },
      "source": [
        "dnn_model.evaluate(test_features[feature], test_labels, verbose=1)"
      ],
      "execution_count": 75,
      "outputs": [
        {
          "output_type": "stream",
          "text": [
            "3/3 [==============================] - 0s 2ms/step - loss: 2.8914\n"
          ],
          "name": "stdout"
        },
        {
          "output_type": "execute_result",
          "data": {
            "text/plain": [
              "2.891390562057495"
            ]
          },
          "metadata": {
            "tags": []
          },
          "execution_count": 75
        }
      ]
    },
    {
      "cell_type": "code",
      "metadata": {
        "colab": {
          "base_uri": "https://localhost:8080/",
          "height": 498
        },
        "id": "2KRrov5K1z6i",
        "outputId": "2ab9774a-96b2-4c5a-c093-327e22e1c54b"
      },
      "source": [
        "# predict and plot\n",
        "x = tf.linspace(range_min, range_max, 200)\n",
        "y = dnn_model.predict(x)\n",
        "\n",
        "plot(feature, x, y)"
      ],
      "execution_count": 76,
      "outputs": [
        {
          "output_type": "display_data",
          "data": {
            "image/png": "[encoded data removed]",
            "text/plain": [
              "<Figure size 720x576 with 1 Axes>"
            ]
          },
          "metadata": {
            "tags": []
          }
        }
      ]
    },
    {
      "cell_type": "code",
      "metadata": {
        "id": "0hduWyoH2K7r"
      },
      "source": [
        "# multiple_inputs\n",
        "linear_model = tf.keras.Sequential([\n",
        "    normalizer,\n",
        "    layers.Dense(units=1)\n",
        "])\n",
        "\n",
        "linear_model.compile(\n",
        "    optimizer=tf.optimizers.Adam(learning_rate=0.1),\n",
        "    loss=loss\n",
        ")"
      ],
      "execution_count": 77,
      "outputs": []
    },
    {
      "cell_type": "code",
      "metadata": {
        "colab": {
          "base_uri": "https://localhost:8080/"
        },
        "id": "mt1H0YFw2kUS",
        "outputId": "b9798a5d-4d00-4fc1-dd9c-fc680228960a"
      },
      "source": [
        "linear_model.fit(\n",
        "    train_features,\n",
        "    train_labels,\n",
        "    epochs=100,\n",
        "    verbose=1,\n",
        "    # Calculate validation results on 20% of the training data\n",
        "    validation_split = 0.2\n",
        ")"
      ],
      "execution_count": 79,
      "outputs": [
        {
          "output_type": "stream",
          "text": [
            "Epoch 1/100\n",
            "8/8 [==============================] - 0s 16ms/step - loss: 22.9770 - val_loss: 22.8513\n",
            "Epoch 2/100\n",
            "8/8 [==============================] - 0s 3ms/step - loss: 22.1000 - val_loss: 22.1700\n",
            "Epoch 3/100\n",
            "8/8 [==============================] - 0s 4ms/step - loss: 21.2605 - val_loss: 21.4690\n",
            "Epoch 4/100\n",
            "8/8 [==============================] - 0s 4ms/step - loss: 20.4430 - val_loss: 20.7227\n",
            "Epoch 5/100\n",
            "8/8 [==============================] - 0s 3ms/step - loss: 19.6225 - val_loss: 20.0000\n",
            "Epoch 6/100\n",
            "8/8 [==============================] - 0s 3ms/step - loss: 18.8026 - val_loss: 19.2673\n",
            "Epoch 7/100\n",
            "8/8 [==============================] - 0s 3ms/step - loss: 17.9920 - val_loss: 18.5341\n",
            "Epoch 8/100\n",
            "8/8 [==============================] - 0s 3ms/step - loss: 17.1566 - val_loss: 17.8129\n",
            "Epoch 9/100\n",
            "8/8 [==============================] - 0s 3ms/step - loss: 16.3418 - val_loss: 17.0969\n",
            "Epoch 10/100\n",
            "8/8 [==============================] - 0s 3ms/step - loss: 15.5317 - val_loss: 16.3928\n",
            "Epoch 11/100\n",
            "8/8 [==============================] - 0s 3ms/step - loss: 14.6953 - val_loss: 15.6530\n",
            "Epoch 12/100\n",
            "8/8 [==============================] - 0s 3ms/step - loss: 13.8859 - val_loss: 14.9260\n",
            "Epoch 13/100\n",
            "8/8 [==============================] - 0s 3ms/step - loss: 13.0675 - val_loss: 14.2134\n",
            "Epoch 14/100\n",
            "8/8 [==============================] - 0s 3ms/step - loss: 12.2621 - val_loss: 13.5028\n",
            "Epoch 15/100\n",
            "8/8 [==============================] - 0s 3ms/step - loss: 11.4756 - val_loss: 12.8469\n",
            "Epoch 16/100\n",
            "8/8 [==============================] - 0s 3ms/step - loss: 10.6836 - val_loss: 12.0151\n",
            "Epoch 17/100\n",
            "8/8 [==============================] - 0s 3ms/step - loss: 9.9190 - val_loss: 11.2911\n",
            "Epoch 18/100\n",
            "8/8 [==============================] - 0s 3ms/step - loss: 9.1155 - val_loss: 10.5953\n",
            "Epoch 19/100\n",
            "8/8 [==============================] - 0s 3ms/step - loss: 8.3297 - val_loss: 9.8649\n",
            "Epoch 20/100\n",
            "8/8 [==============================] - 0s 3ms/step - loss: 7.6146 - val_loss: 9.1798\n",
            "Epoch 21/100\n",
            "8/8 [==============================] - 0s 3ms/step - loss: 6.9639 - val_loss: 8.5064\n",
            "Epoch 22/100\n",
            "8/8 [==============================] - 0s 3ms/step - loss: 6.3991 - val_loss: 7.8318\n",
            "Epoch 23/100\n",
            "8/8 [==============================] - 0s 3ms/step - loss: 5.7848 - val_loss: 7.1241\n",
            "Epoch 24/100\n",
            "8/8 [==============================] - 0s 3ms/step - loss: 5.3054 - val_loss: 6.4706\n",
            "Epoch 25/100\n",
            "8/8 [==============================] - 0s 3ms/step - loss: 4.8374 - val_loss: 5.8657\n",
            "Epoch 26/100\n",
            "8/8 [==============================] - 0s 3ms/step - loss: 4.4234 - val_loss: 5.4147\n",
            "Epoch 27/100\n",
            "8/8 [==============================] - 0s 3ms/step - loss: 3.9508 - val_loss: 4.6564\n",
            "Epoch 28/100\n",
            "8/8 [==============================] - 0s 4ms/step - loss: 3.4906 - val_loss: 4.0420\n",
            "Epoch 29/100\n",
            "8/8 [==============================] - 0s 3ms/step - loss: 3.1858 - val_loss: 3.3686\n",
            "Epoch 30/100\n",
            "8/8 [==============================] - 0s 3ms/step - loss: 2.9163 - val_loss: 3.1072\n",
            "Epoch 31/100\n",
            "8/8 [==============================] - 0s 3ms/step - loss: 2.7662 - val_loss: 2.8607\n",
            "Epoch 32/100\n",
            "8/8 [==============================] - 0s 3ms/step - loss: 2.6566 - val_loss: 2.7353\n",
            "Epoch 33/100\n",
            "8/8 [==============================] - 0s 3ms/step - loss: 2.5866 - val_loss: 2.7207\n",
            "Epoch 34/100\n",
            "8/8 [==============================] - 0s 3ms/step - loss: 2.5815 - val_loss: 2.6378\n",
            "Epoch 35/100\n",
            "8/8 [==============================] - 0s 3ms/step - loss: 2.5388 - val_loss: 2.6315\n",
            "Epoch 36/100\n",
            "8/8 [==============================] - 0s 3ms/step - loss: 2.5487 - val_loss: 2.5480\n",
            "Epoch 37/100\n",
            "8/8 [==============================] - 0s 3ms/step - loss: 2.4994 - val_loss: 2.5720\n",
            "Epoch 38/100\n",
            "8/8 [==============================] - 0s 3ms/step - loss: 2.4837 - val_loss: 2.5070\n",
            "Epoch 39/100\n",
            "8/8 [==============================] - 0s 3ms/step - loss: 2.4935 - val_loss: 2.5748\n",
            "Epoch 40/100\n",
            "8/8 [==============================] - 0s 3ms/step - loss: 2.5114 - val_loss: 2.5032\n",
            "Epoch 41/100\n",
            "8/8 [==============================] - 0s 3ms/step - loss: 2.4900 - val_loss: 2.5355\n",
            "Epoch 42/100\n",
            "8/8 [==============================] - 0s 4ms/step - loss: 2.4809 - val_loss: 2.4987\n",
            "Epoch 43/100\n",
            "8/8 [==============================] - 0s 4ms/step - loss: 2.4942 - val_loss: 2.5023\n",
            "Epoch 44/100\n",
            "8/8 [==============================] - 0s 3ms/step - loss: 2.4805 - val_loss: 2.4821\n",
            "Epoch 45/100\n",
            "8/8 [==============================] - 0s 3ms/step - loss: 2.5072 - val_loss: 2.4784\n",
            "Epoch 46/100\n",
            "8/8 [==============================] - 0s 3ms/step - loss: 2.4765 - val_loss: 2.5791\n",
            "Epoch 47/100\n",
            "8/8 [==============================] - 0s 3ms/step - loss: 2.4880 - val_loss: 2.4778\n",
            "Epoch 48/100\n",
            "8/8 [==============================] - 0s 3ms/step - loss: 2.5079 - val_loss: 2.5634\n",
            "Epoch 49/100\n",
            "8/8 [==============================] - 0s 3ms/step - loss: 2.4917 - val_loss: 2.4952\n",
            "Epoch 50/100\n",
            "8/8 [==============================] - 0s 3ms/step - loss: 2.4782 - val_loss: 2.5172\n",
            "Epoch 51/100\n",
            "8/8 [==============================] - 0s 3ms/step - loss: 2.4745 - val_loss: 2.5077\n",
            "Epoch 52/100\n",
            "8/8 [==============================] - 0s 3ms/step - loss: 2.4733 - val_loss: 2.5300\n",
            "Epoch 53/100\n",
            "8/8 [==============================] - 0s 3ms/step - loss: 2.4702 - val_loss: 2.5054\n",
            "Epoch 54/100\n",
            "8/8 [==============================] - 0s 3ms/step - loss: 2.5276 - val_loss: 2.5114\n",
            "Epoch 55/100\n",
            "8/8 [==============================] - 0s 3ms/step - loss: 2.4846 - val_loss: 2.4850\n",
            "Epoch 56/100\n",
            "8/8 [==============================] - 0s 3ms/step - loss: 2.4874 - val_loss: 2.4752\n",
            "Epoch 57/100\n",
            "8/8 [==============================] - 0s 3ms/step - loss: 2.4687 - val_loss: 2.4950\n",
            "Epoch 58/100\n",
            "8/8 [==============================] - 0s 3ms/step - loss: 2.4647 - val_loss: 2.4679\n",
            "Epoch 59/100\n",
            "8/8 [==============================] - 0s 3ms/step - loss: 2.4800 - val_loss: 2.4995\n",
            "Epoch 60/100\n",
            "8/8 [==============================] - 0s 3ms/step - loss: 2.4682 - val_loss: 2.4612\n",
            "Epoch 61/100\n",
            "8/8 [==============================] - 0s 3ms/step - loss: 2.4978 - val_loss: 2.5007\n",
            "Epoch 62/100\n",
            "8/8 [==============================] - 0s 3ms/step - loss: 2.4954 - val_loss: 2.4669\n",
            "Epoch 63/100\n",
            "8/8 [==============================] - 0s 4ms/step - loss: 2.4765 - val_loss: 2.4774\n",
            "Epoch 64/100\n",
            "8/8 [==============================] - 0s 3ms/step - loss: 2.4987 - val_loss: 2.4738\n",
            "Epoch 65/100\n",
            "8/8 [==============================] - 0s 3ms/step - loss: 2.4747 - val_loss: 2.4637\n",
            "Epoch 66/100\n",
            "8/8 [==============================] - 0s 3ms/step - loss: 2.4758 - val_loss: 2.5033\n",
            "Epoch 67/100\n",
            "8/8 [==============================] - 0s 3ms/step - loss: 2.4774 - val_loss: 2.4598\n",
            "Epoch 68/100\n",
            "8/8 [==============================] - 0s 3ms/step - loss: 2.5131 - val_loss: 2.4550\n",
            "Epoch 69/100\n",
            "8/8 [==============================] - 0s 3ms/step - loss: 2.4746 - val_loss: 2.4887\n",
            "Epoch 70/100\n",
            "8/8 [==============================] - 0s 4ms/step - loss: 2.4741 - val_loss: 2.4564\n",
            "Epoch 71/100\n",
            "8/8 [==============================] - 0s 3ms/step - loss: 2.4815 - val_loss: 2.5002\n",
            "Epoch 72/100\n",
            "8/8 [==============================] - 0s 3ms/step - loss: 2.4841 - val_loss: 2.4713\n",
            "Epoch 73/100\n",
            "8/8 [==============================] - 0s 3ms/step - loss: 2.4743 - val_loss: 2.4881\n",
            "Epoch 74/100\n",
            "8/8 [==============================] - 0s 3ms/step - loss: 2.4731 - val_loss: 2.4691\n",
            "Epoch 75/100\n",
            "8/8 [==============================] - 0s 3ms/step - loss: 2.4783 - val_loss: 2.4592\n",
            "Epoch 76/100\n",
            "8/8 [==============================] - 0s 3ms/step - loss: 2.4904 - val_loss: 2.4619\n",
            "Epoch 77/100\n",
            "8/8 [==============================] - 0s 3ms/step - loss: 2.4938 - val_loss: 2.4619\n",
            "Epoch 78/100\n",
            "8/8 [==============================] - 0s 4ms/step - loss: 2.4684 - val_loss: 2.4699\n",
            "Epoch 79/100\n",
            "8/8 [==============================] - 0s 3ms/step - loss: 2.4700 - val_loss: 2.4421\n",
            "Epoch 80/100\n",
            "8/8 [==============================] - 0s 3ms/step - loss: 2.4884 - val_loss: 2.4802\n",
            "Epoch 81/100\n",
            "8/8 [==============================] - 0s 3ms/step - loss: 2.5153 - val_loss: 2.4519\n",
            "Epoch 82/100\n",
            "8/8 [==============================] - 0s 3ms/step - loss: 2.4903 - val_loss: 2.4944\n",
            "Epoch 83/100\n",
            "8/8 [==============================] - 0s 3ms/step - loss: 2.4828 - val_loss: 2.4470\n",
            "Epoch 84/100\n",
            "8/8 [==============================] - 0s 3ms/step - loss: 2.4858 - val_loss: 2.4817\n",
            "Epoch 85/100\n",
            "8/8 [==============================] - 0s 4ms/step - loss: 2.4696 - val_loss: 2.5078\n",
            "Epoch 86/100\n",
            "8/8 [==============================] - 0s 4ms/step - loss: 2.4792 - val_loss: 2.4738\n",
            "Epoch 87/100\n",
            "8/8 [==============================] - 0s 3ms/step - loss: 2.4742 - val_loss: 2.4625\n",
            "Epoch 88/100\n",
            "8/8 [==============================] - 0s 3ms/step - loss: 2.4798 - val_loss: 2.4627\n",
            "Epoch 89/100\n",
            "8/8 [==============================] - 0s 3ms/step - loss: 2.4813 - val_loss: 2.4844\n",
            "Epoch 90/100\n",
            "8/8 [==============================] - 0s 3ms/step - loss: 2.4822 - val_loss: 2.4800\n",
            "Epoch 91/100\n",
            "8/8 [==============================] - 0s 3ms/step - loss: 2.4821 - val_loss: 2.4884\n",
            "Epoch 92/100\n",
            "8/8 [==============================] - 0s 4ms/step - loss: 2.4779 - val_loss: 2.4578\n",
            "Epoch 93/100\n",
            "8/8 [==============================] - 0s 4ms/step - loss: 2.4870 - val_loss: 2.4505\n",
            "Epoch 94/100\n",
            "8/8 [==============================] - 0s 4ms/step - loss: 2.4944 - val_loss: 2.4997\n",
            "Epoch 95/100\n",
            "8/8 [==============================] - 0s 5ms/step - loss: 2.5065 - val_loss: 2.4742\n",
            "Epoch 96/100\n",
            "8/8 [==============================] - 0s 3ms/step - loss: 2.4832 - val_loss: 2.4910\n",
            "Epoch 97/100\n",
            "8/8 [==============================] - 0s 3ms/step - loss: 2.4765 - val_loss: 2.4721\n",
            "Epoch 98/100\n",
            "8/8 [==============================] - 0s 3ms/step - loss: 2.5237 - val_loss: 2.4695\n",
            "Epoch 99/100\n",
            "8/8 [==============================] - 0s 3ms/step - loss: 2.4909 - val_loss: 2.5207\n",
            "Epoch 100/100\n",
            "8/8 [==============================] - 0s 3ms/step - loss: 2.4951 - val_loss: 2.4789\n"
          ],
          "name": "stdout"
        },
        {
          "output_type": "execute_result",
          "data": {
            "text/plain": [
              "<tensorflow.python.keras.callbacks.History at 0x7f05ff728630>"
            ]
          },
          "metadata": {
            "tags": []
          },
          "execution_count": 79
        }
      ]
    },
    {
      "cell_type": "code",
      "metadata": {
        "colab": {
          "base_uri": "https://localhost:8080/"
        },
        "id": "dMSrhK4j2wM-",
        "outputId": "a01bd0e2-305e-4e09-dcd6-b3ad0c3efe53"
      },
      "source": [
        "linear_model.evaluate(\n",
        "    test_features, test_labels, verbose=1\n",
        ")"
      ],
      "execution_count": 81,
      "outputs": [
        {
          "output_type": "stream",
          "text": [
            "3/3 [==============================] - 0s 2ms/step - loss: 2.5078\n"
          ],
          "name": "stdout"
        },
        {
          "output_type": "execute_result",
          "data": {
            "text/plain": [
              "2.5077764987945557"
            ]
          },
          "metadata": {
            "tags": []
          },
          "execution_count": 81
        }
      ]
    },
    {
      "cell_type": "code",
      "metadata": {
        "id": "P5tTTGMT27b7"
      },
      "source": [
        ""
      ],
      "execution_count": null,
      "outputs": []
    }
  ]
}